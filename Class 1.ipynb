{
 "cells": [
  {
   "cell_type": "code",
   "execution_count": 11,
   "id": "784649b2",
   "metadata": {},
   "outputs": [
    {
     "name": "stdout",
     "output_type": "stream",
     "text": [
      "H\n",
      "e\n",
      "l\n",
      "l\n",
      "o\n",
      " \n",
      "w\n",
      "o\n",
      "r\n",
      "l\n",
      "d\n"
     ]
    }
   ],
   "source": [
    "for item in \"Hello world\":\n",
    "    print(item)"
   ]
  },
  {
   "cell_type": "markdown",
   "id": "a3fab186",
   "metadata": {},
   "source": [
    "# Problem 1\n",
    "\n",
    "### Anagram check\n",
    "\n",
    "Create a function that takes two strings as parameteres and returns True if they are anagrams of each other, False otherwise.\n",
    "\n",
    "```\n",
    "Examples:\n",
    "1. heart and earth\n",
    "2. scar and cars\n",
    "3. star and rats\n",
    "etc\n",
    "```\n",
    "\n",
    "### Criteria\n",
    "Two strings are anagrams of each other if and only if all of the criteria below are met:\n",
    "> 1. They must use all the smae charecters\n",
    "> 2. They must be of exactly the same length (in charecters)\n"
   ]
  },
  {
   "cell_type": "markdown",
   "id": "a9d5a7d1",
   "metadata": {},
   "source": [
    "1. Create a function called \"anagram check\"\n",
    "2. Create two insert perameters in the function\n",
    "3. Define a new variable for each of the inserts\n",
    "4. Count charecters in each variable\n",
    "5. Create a True or False criteria\n",
    "6. If count is not equal return Flase\n",
    "7. If Flase return statement \"This is no anagram\"\n",
    "8. If counts are equal return True\n",
    "9. If True make each variable's string lowercase\n",
    "10. Create a True or False criteria\n",
    "11. If variable one is not equal to variable two return false\n",
    "12. If Flase return statement \"This is no anagram\"\n",
    "13. If variable one is equal to variable two return True\n",
    "14. If return is True state \"This is a anagram\""
   ]
  },
  {
   "cell_type": "code",
   "execution_count": 37,
   "id": "7427a8d6",
   "metadata": {},
   "outputs": [
    {
     "name": "stdout",
     "output_type": "stream",
     "text": [
      "This isn't even the same amount of charecters!\n",
      "Sorry, no anagrams round these parts.\n",
      "Thats one mighty fine anagram you got there!\n"
     ]
    }
   ],
   "source": [
    "def nospace(string):\n",
    "    string = string.replace(\" \",\"\")\n",
    "    return(string.lower())\n",
    "\n",
    "def anagramer(one,two):\n",
    "    str_a = nospace(one)\n",
    "    str_b = nospace(two)\n",
    "    if len(str_a) != len(str_b):\n",
    "        print(\"This isn't even the same amount of charecters!\")\n",
    "    else:   \n",
    "        dict_a = {}\n",
    "        dict_b = {}\n",
    "        for char in str_a:\n",
    "            if char not in dict_a:\n",
    "                dict_a[char] = 1\n",
    "            else:\n",
    "                dict_a[char] += 1\n",
    "\n",
    "        for char in str_b:\n",
    "            if char not in dict_b:\n",
    "                dict_b[char] = 1\n",
    "            else:\n",
    "                dict_b[char] += 1\n",
    "    \n",
    "        if dict_a != dict_b:\n",
    "            print(\"Sorry, no anagrams round these parts.\")\n",
    "        else:\n",
    "            print(\"Thats one mighty fine anagram you got there!\")\n",
    "\n",
    "                    \n",
    "\n",
    "anagramer(\"is this a anagram\",\"or no anagram\")\n",
    "anagramer(\"almost an anagram\", \"A toast to anagram\")\n",
    "anagramer(\"ha llo\",\"h o l la \")"
   ]
  },
  {
   "cell_type": "code",
   "execution_count": null,
   "id": "e0c1b172",
   "metadata": {},
   "outputs": [],
   "source": []
  }
 ],
 "metadata": {
  "kernelspec": {
   "display_name": "Python 3 (ipykernel)",
   "language": "python",
   "name": "python3"
  },
  "language_info": {
   "codemirror_mode": {
    "name": "ipython",
    "version": 3
   },
   "file_extension": ".py",
   "mimetype": "text/x-python",
   "name": "python",
   "nbconvert_exporter": "python",
   "pygments_lexer": "ipython3",
   "version": "3.10.6"
  }
 },
 "nbformat": 4,
 "nbformat_minor": 5
}
