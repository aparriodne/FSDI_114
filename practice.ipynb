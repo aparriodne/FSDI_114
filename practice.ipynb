{
 "cells": [
  {
   "cell_type": "code",
   "execution_count": 2,
   "id": "82266038",
   "metadata": {},
   "outputs": [
    {
     "name": "stdout",
     "output_type": "stream",
     "text": [
      "w\n",
      "o\n",
      "r\n",
      "d\n"
     ]
    }
   ],
   "source": [
    "for a in \"word\":\n",
    "    print(a)"
   ]
  },
  {
   "cell_type": "code",
   "execution_count": 10,
   "id": "8dce375f",
   "metadata": {},
   "outputs": [
    {
     "name": "stdout",
     "output_type": "stream",
     "text": [
      "this ia a double you\n",
      "o\n",
      "r\n",
      "d\n"
     ]
    }
   ],
   "source": [
    "for a in \"word\":\n",
    "    if a != \"w\":\n",
    "        print(a)\n",
    "    else:\n",
    "        print(\"this ia a double you\")"
   ]
  },
  {
   "cell_type": "code",
   "execution_count": 94,
   "id": "a5e2e031",
   "metadata": {},
   "outputs": [
    {
     "name": "stdout",
     "output_type": "stream",
     "text": [
      "['a', 'l', 'p', 'h', 'a', 'b', 'e', 't']\n"
     ]
    }
   ],
   "source": [
    "word = \"alphabet\"\n",
    "list = []\n",
    "for a in word:\n",
    "    if a != list:\n",
    "        list.append(a)\n",
    "print(list)"
   ]
  },
  {
   "cell_type": "code",
   "execution_count": 190,
   "id": "b234fee3",
   "metadata": {},
   "outputs": [],
   "source": [
    "def pizza(x,y):\n",
    "    corn = sorted(x)\n",
    "    butter = []\n",
    "    for kernals in y:\n",
    "        butter.append(kernals)\n",
    "        soda = corn + butter\n",
    "    print(soda)\n"
   ]
  },
  {
   "cell_type": "code",
   "execution_count": 78,
   "id": "2d3028d0",
   "metadata": {},
   "outputs": [
    {
     "name": "stdout",
     "output_type": "stream",
     "text": [
      "['a', 'c', 'e', 'k', 'r', 'o', 'a', 's', 't']\n"
     ]
    }
   ],
   "source": [
    "pizza(\"cake\",\"roast\")"
   ]
  },
  {
   "cell_type": "code",
   "execution_count": 91,
   "id": "0a955c33",
   "metadata": {},
   "outputs": [
    {
     "name": "stdout",
     "output_type": "stream",
     "text": [
      "[' ', 'a', 'b', 'c', 'd', 'e', 'f', 'g', 'h', 'i', 'j', 'k', 'l', 'm', 'n', 'o', 'p', 'q', 'r', 's', 't', 'u', 'v', 'w', 'x', 'y', 'z', ' ']\n"
     ]
    }
   ],
   "source": [
    "pizza(\"abcdefghijk lmnopqrstuvwxyz\",\" \")"
   ]
  },
  {
   "cell_type": "code",
   "execution_count": 188,
   "id": "86f757fe",
   "metadata": {},
   "outputs": [
    {
     "ename": "IndentationError",
     "evalue": "expected an indented block after 'for' statement on line 13 (824506336.py, line 14)",
     "output_type": "error",
     "traceback": [
      "\u001b[0;36m  Cell \u001b[0;32mIn[188], line 14\u001b[0;36m\u001b[0m\n\u001b[0;31m    if char == dict_a(index):\u001b[0m\n\u001b[0m    ^\u001b[0m\n\u001b[0;31mIndentationError\u001b[0m\u001b[0;31m:\u001b[0m expected an indented block after 'for' statement on line 13\n"
     ]
    }
   ],
   "source": [
    "def nospace(string):\n",
    "    string = string.replace(\" \",\"\")\n",
    "    return(string.lower())\n",
    "\n",
    "def anagramer(one,two):\n",
    "    str_a = nospace(one)\n",
    "    str_b = nospace(two)\n",
    "    if len(str_a) != len(str_b):\n",
    "        return(False)\n",
    "    else:\n",
    "        dict_a = {}\n",
    "        dict_b = {}\n",
    "        for index in range(len(str_a)-1):\n",
    "        if char == dict_a(index):\n",
    "            dict_a += 1\n",
    "        else:\n",
    "                dict_a.append(index)\n",
    "                \n",
    "        for index in range(len(str_a)-1):\n",
    "        if char == dict_b(index):\n",
    "            dict_b += 1\n",
    "        else:\n",
    "            dict_b.append(index)\n",
    "                    \n",
    "        if dict_a != dict_b:\n",
    "            return(Flase)\n",
    "        else:\n",
    "            print(\"is an anagram\")"
   ]
  },
  {
   "cell_type": "code",
   "execution_count": 187,
   "id": "a6e7fe03",
   "metadata": {},
   "outputs": [
    {
     "ename": "AttributeError",
     "evalue": "'dict' object has no attribute 'append'",
     "output_type": "error",
     "traceback": [
      "\u001b[0;31m---------------------------------------------------------------------------\u001b[0m",
      "\u001b[0;31mAttributeError\u001b[0m                            Traceback (most recent call last)",
      "Cell \u001b[0;32mIn[187], line 1\u001b[0m\n\u001b[0;32m----> 1\u001b[0m \u001b[43managramer\u001b[49m\u001b[43m(\u001b[49m\u001b[38;5;124;43m\"\u001b[39;49m\u001b[38;5;124;43mrace\u001b[39;49m\u001b[38;5;124;43m\"\u001b[39;49m\u001b[43m,\u001b[49m\u001b[38;5;124;43m\"\u001b[39;49m\u001b[38;5;124;43mcare\u001b[39;49m\u001b[38;5;124;43m\"\u001b[39;49m\u001b[43m)\u001b[49m\n",
      "Cell \u001b[0;32mIn[185], line 14\u001b[0m, in \u001b[0;36managramer\u001b[0;34m(one, two)\u001b[0m\n\u001b[1;32m     12\u001b[0m dict_b \u001b[38;5;241m=\u001b[39m {}\n\u001b[1;32m     13\u001b[0m \u001b[38;5;28;01mfor\u001b[39;00m char \u001b[38;5;129;01min\u001b[39;00m str_a:\n\u001b[0;32m---> 14\u001b[0m     \u001b[43mdict_a\u001b[49m\u001b[38;5;241;43m.\u001b[39;49m\u001b[43mappend\u001b[49m(char)\n\u001b[1;32m     15\u001b[0m \u001b[38;5;28;01mif\u001b[39;00m char \u001b[38;5;241m==\u001b[39m dict_a(char):\n\u001b[1;32m     16\u001b[0m         dict_a \u001b[38;5;241m+\u001b[39m\u001b[38;5;241m=\u001b[39m \u001b[38;5;241m1\u001b[39m\n",
      "\u001b[0;31mAttributeError\u001b[0m: 'dict' object has no attribute 'append'"
     ]
    }
   ],
   "source": [
    "anagramer(\"race\",\"care\")"
   ]
  },
  {
   "cell_type": "code",
   "execution_count": null,
   "id": "329b8cc2",
   "metadata": {},
   "outputs": [],
   "source": [
    "a = "
   ]
  }
 ],
 "metadata": {
  "kernelspec": {
   "display_name": "Python 3 (ipykernel)",
   "language": "python",
   "name": "python3"
  },
  "language_info": {
   "codemirror_mode": {
    "name": "ipython",
    "version": 3
   },
   "file_extension": ".py",
   "mimetype": "text/x-python",
   "name": "python",
   "nbconvert_exporter": "python",
   "pygments_lexer": "ipython3",
   "version": "3.10.6"
  }
 },
 "nbformat": 4,
 "nbformat_minor": 5
}
