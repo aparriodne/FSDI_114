{
 "cells": [
  {
   "cell_type": "code",
   "execution_count": 11,
   "id": "52de773a",
   "metadata": {},
   "outputs": [],
   "source": [
    "class Stack:\n",
    "    def __init__(self):\n",
    "        self.items = []\n",
    "        \n",
    "    def push(self, value):\n",
    "        self.items.append(value)\n",
    "        \n",
    "    def pop(self):\n",
    "        return self.items.pop()\n",
    "        \n",
    "    def size(self):\n",
    "        return len(self.items)\n",
    "    \n",
    "    def peek(self):\n",
    "        return self.items[len(self.items)-1]\n",
    "    \n",
    "    def is_empty(self):\n",
    "        return self.items == []"
   ]
  },
  {
   "cell_type": "code",
   "execution_count": 12,
   "id": "7c9d15d2",
   "metadata": {},
   "outputs": [
    {
     "data": {
      "text/plain": [
       "'noraA'"
      ]
     },
     "execution_count": 12,
     "metadata": {},
     "output_type": "execute_result"
    }
   ],
   "source": [
    "def invert(mystring):\n",
    "    stack = Stack()\n",
    "    out = \"\"\n",
    "    for letter in mystring:\n",
    "        stack.push(letter)\n",
    "    while not stack.is_empty():\n",
    "        out += stack.pop()\n",
    "    return out\n",
    "    \n",
    "invert(\"Aaron\")"
   ]
  },
  {
   "cell_type": "code",
   "execution_count": 22,
   "id": "81a7bddb",
   "metadata": {},
   "outputs": [
    {
     "name": "stdout",
     "output_type": "stream",
     "text": [
      "140625768677744\n",
      "140625768677776\n",
      "6\n",
      "5\n"
     ]
    }
   ],
   "source": [
    "# pass by value\n",
    "x = 5\n",
    "y = x\n",
    "\n",
    "x += 1\n",
    "\n",
    "print(id(y))\n",
    "print (id(x))\n",
    "print(x)\n",
    "print(y)\n",
    "\n",
    "# data types pass by value: int, bool, float and imaginary numbers"
   ]
  },
  {
   "cell_type": "code",
   "execution_count": 24,
   "id": "a9c66e12",
   "metadata": {},
   "outputs": [
    {
     "name": "stdout",
     "output_type": "stream",
     "text": [
      "140625421525568\n",
      "140625421525568\n",
      "[1, 2, 3, 4, 5, 6]\n",
      "[1, 2, 3, 4, 5, 6]\n"
     ]
    }
   ],
   "source": [
    "# pass by refrence\n",
    "x = [1, 2, 3, 4, 5]\n",
    "\n",
    "y = x\n",
    "\n",
    "x.append(6)\n",
    "\n",
    "print(id(y))\n",
    "print (id(x))\n",
    "print(x)\n",
    "print(y)"
   ]
  },
  {
   "cell_type": "code",
   "execution_count": 37,
   "id": "cffd54cb",
   "metadata": {},
   "outputs": [],
   "source": [
    "# complex stack implemetn\n",
    "\n",
    "class CStack:\n",
    "    class Node:\n",
    "        def __init__(self, data):\n",
    "            self.data = data\n",
    "            self.below = None\n",
    "        \n",
    "    def __init__(self):\n",
    "        self.top = None\n",
    "        \n",
    "    def push(self, value):\n",
    "        if not self.top:    # if self.top == None\n",
    "            self.top = self.Node(value)\n",
    "        else:\n",
    "            new_node = self.Node(value)\n",
    "            new_node.below =self.top\n",
    "            self.top = new_node\n",
    "            \n",
    "    def pop(self):\n",
    "        if not self.top:\n",
    "            raise(\"nothing in the stack\")\n",
    "        else:\n",
    "            datum = self.top.data\n",
    "            self.top = self.top.below\n",
    "            return datum\n",
    "        \n",
    "    def is_empty(self):\n",
    "        return self.top == None\n",
    "    \n",
    "    \n",
    "        \n",
    "            "
   ]
  },
  {
   "cell_type": "code",
   "execution_count": 38,
   "id": "43a7216e",
   "metadata": {},
   "outputs": [
    {
     "data": {
      "text/plain": [
       "'noraA'"
      ]
     },
     "execution_count": 38,
     "metadata": {},
     "output_type": "execute_result"
    }
   ],
   "source": [
    "def custom_invert(mystring):\n",
    "    stack = CStack()\n",
    "    for char in mystring:\n",
    "        stack.push(char)\n",
    "    out = \"\"\n",
    "    while not stack.is_empty():\n",
    "        out += stack.pop()\n",
    "    return out\n",
    "\n",
    "custom_invert(\"Aaron\")"
   ]
  },
  {
   "cell_type": "code",
   "execution_count": 39,
   "id": "0bb7c3b5",
   "metadata": {},
   "outputs": [],
   "source": [
    "# Simplifeid implementation of queue\n",
    "\n",
    "class queue:\n",
    "    def __init__(self):\n",
    "        self.items = []\n",
    "        \n",
    "    def enqueue (self, value):\n",
    "        self.items.insert(0, value)\n",
    "        \n",
    "    def dequeue(self):\n",
    "        return self.items.pop()\n",
    "    \n",
    "    def size(self):\n",
    "        return len(self.items)\n",
    "    \n",
    "    def peek(self):\n",
    "        return self.items[len(self.items)-1]\n",
    "        \n",
    "    def is_empty(self):\n",
    "        return self.items == []"
   ]
  },
  {
   "cell_type": "markdown",
   "id": "aef72bb4",
   "metadata": {},
   "source": [
    "# problem 3\n",
    "\n",
    "### Create complex implementaiton of queue considering the following:\n",
    "1. it should not use any built-in data structures\n",
    "2. Each node should hold \"some\" data\n",
    "3. The ordering principle must be maintained\n",
    "3.1 it must be FIFO -> first in first out"
   ]
  },
  {
   "cell_type": "code",
   "execution_count": null,
   "id": "857dca9e",
   "metadata": {},
   "outputs": [],
   "source": []
  }
 ],
 "metadata": {
  "kernelspec": {
   "display_name": "Python 3 (ipykernel)",
   "language": "python",
   "name": "python3"
  },
  "language_info": {
   "codemirror_mode": {
    "name": "ipython",
    "version": 3
   },
   "file_extension": ".py",
   "mimetype": "text/x-python",
   "name": "python",
   "nbconvert_exporter": "python",
   "pygments_lexer": "ipython3",
   "version": "3.10.6"
  }
 },
 "nbformat": 4,
 "nbformat_minor": 5
}
